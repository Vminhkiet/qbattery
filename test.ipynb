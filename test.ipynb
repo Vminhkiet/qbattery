{
 "cells": [
  {
   "cell_type": "code",
   "execution_count": 5,
   "metadata": {},
   "outputs": [
    {
     "name": "stdout",
     "output_type": "stream",
     "text": [
      "[[ 0.25  0.    0.    0.    0.    0.    0.    0.    0.    0.    0.  ]\n",
      " [ 0.    0.2   0.    0.    0.    0.    0.    0.    0.    0.    0.  ]\n",
      " [ 0.    0.    0.15  0.    0.    0.    0.    0.    0.    0.    0.  ]\n",
      " [ 0.    0.    0.    0.1   0.    0.    0.    0.    0.    0.    0.  ]\n",
      " [ 0.    0.    0.    0.    0.05  0.    0.    0.    0.    0.    0.  ]\n",
      " [ 0.    0.    0.    0.    0.    0.    0.    0.    0.    0.    0.  ]\n",
      " [ 0.    0.    0.    0.    0.    0.   -0.05  0.    0.    0.    0.  ]\n",
      " [ 0.    0.    0.    0.    0.    0.    0.   -0.1   0.    0.    0.  ]\n",
      " [ 0.    0.    0.    0.    0.    0.    0.    0.   -0.15  0.    0.  ]\n",
      " [ 0.    0.    0.    0.    0.    0.    0.    0.    0.   -0.2   0.  ]\n",
      " [ 0.    0.    0.    0.    0.    0.    0.    0.    0.    0.   -0.25]]\n"
     ]
    }
   ],
   "source": [
    "\n",
    "N = 10 #particles\n",
    "qc = circuit(N) #createcircuit\n",
    "\n",
    "def H0(h):\n",
    "    Jz = qc.Jz()\n",
    "    return h * Jz\n",
    "\n",
    "print(H0(0.05).todense())"
   ]
  },
  {
   "cell_type": "code",
   "execution_count": 1,
   "metadata": {},
   "outputs": [
    {
     "name": "stdout",
     "output_type": "stream",
     "text": [
      "  (2, 0)\t(1.0062305898749053+0j)\n",
      "  (3, 1)\t(1.5588457268119893+0j)\n",
      "  (0, 2)\t(1.0062305898749053+0j)\n",
      "  (4, 2)\t(1.944222209522358+0j)\n",
      "  (1, 3)\t(1.5588457268119893+0j)\n",
      "  (5, 3)\t(2.173706511928416+0j)\n",
      "  (2, 4)\t(1.944222209522358+0j)\n",
      "  (6, 4)\t(2.25+0j)\n",
      "  (3, 5)\t(2.173706511928416+0j)\n",
      "  (7, 5)\t(2.173706511928416+0j)\n",
      "  (4, 6)\t(2.25+0j)\n",
      "  (8, 6)\t(1.944222209522358+0j)\n",
      "  (5, 7)\t(2.173706511928416+0j)\n",
      "  (9, 7)\t(1.5588457268119893+0j)\n",
      "  (6, 8)\t(1.944222209522358+0j)\n",
      "  (10, 8)\t(1.0062305898749053+0j)\n",
      "  (7, 9)\t(1.5588457268119893+0j)\n",
      "  (8, 10)\t(1.0062305898749053+0j)\n"
     ]
    },
    {
     "ename": "TypeError",
     "evalue": "loop of ufunc does not support argument 0 of type csc_matrix which has no callable exp method",
     "output_type": "error",
     "traceback": [
      "\u001b[0;31m---------------------------------------------------------------------------\u001b[0m",
      "\u001b[0;31mAttributeError\u001b[0m                            Traceback (most recent call last)",
      "\u001b[0;31mAttributeError\u001b[0m: 'csc_matrix' object has no attribute 'exp'",
      "\nThe above exception was the direct cause of the following exception:\n",
      "\u001b[0;31mTypeError\u001b[0m                                 Traceback (most recent call last)",
      "Cell \u001b[0;32mIn[1], line 43\u001b[0m\n\u001b[1;32m     41\u001b[0m lamb \u001b[38;5;241m=\u001b[39m \u001b[38;5;241m1.5\u001b[39m\n\u001b[1;32m     42\u001b[0m \u001b[38;5;28;01mfor\u001b[39;00m t \u001b[38;5;129;01min\u001b[39;00m time:\n\u001b[0;32m---> 43\u001b[0m     dE \u001b[38;5;241m=\u001b[39m \u001b[43mEt\u001b[49m\u001b[43m(\u001b[49m\u001b[43mrho\u001b[49m\u001b[43m,\u001b[49m\u001b[43mh\u001b[49m\u001b[43m,\u001b[49m\u001b[43mlamb\u001b[49m\u001b[43m,\u001b[49m\u001b[43mt\u001b[49m\u001b[43m)\u001b[49m\u001b[38;5;241m-\u001b[39mE0(rho,h)\n\u001b[1;32m     44\u001b[0m     wt\u001b[38;5;241m.\u001b[39mappend(dE)\n\u001b[1;32m     45\u001b[0m     pt\u001b[38;5;241m.\u001b[39mappend(dE\u001b[38;5;241m/\u001b[39mt)\n",
      "Cell \u001b[0;32mIn[1], line 29\u001b[0m, in \u001b[0;36mEt\u001b[0;34m(rho, h, lamb, t)\u001b[0m\n\u001b[1;32m     27\u001b[0m H \u001b[38;5;241m=\u001b[39m H1(lamb)\n\u001b[1;32m     28\u001b[0m \u001b[38;5;28mprint\u001b[39m(H)\n\u001b[0;32m---> 29\u001b[0m U \u001b[38;5;241m=\u001b[39m \u001b[43mexpm\u001b[49m\u001b[43m(\u001b[49m\u001b[38;5;241;43m-\u001b[39;49m\u001b[38;5;241;43m1\u001b[39;49m\u001b[43mj\u001b[49m\u001b[43m \u001b[49m\u001b[38;5;241;43m*\u001b[39;49m\u001b[43m \u001b[49m\u001b[43mH\u001b[49m\u001b[43m \u001b[49m\u001b[38;5;241;43m*\u001b[39;49m\u001b[43m \u001b[49m\u001b[43mt\u001b[49m\u001b[43m)\u001b[49m\n\u001b[1;32m     30\u001b[0m rho_t \u001b[38;5;241m=\u001b[39m U \u001b[38;5;241m@\u001b[39m rho \u001b[38;5;241m@\u001b[39m daggx(U)\n\u001b[1;32m     31\u001b[0m \u001b[38;5;28;01mreturn\u001b[39;00m np\u001b[38;5;241m.\u001b[39mreal(np\u001b[38;5;241m.\u001b[39mtrace (rho_t \u001b[38;5;241m@\u001b[39m H0(h)))\n",
      "File \u001b[0;32m/Library/Frameworks/Python.framework/Versions/3.10/lib/python3.10/site-packages/scipy/linalg/_matfuncs.py:283\u001b[0m, in \u001b[0;36mexpm\u001b[0;34m(A)\u001b[0m\n\u001b[1;32m    281\u001b[0m a \u001b[38;5;241m=\u001b[39m np\u001b[38;5;241m.\u001b[39masarray(A)\n\u001b[1;32m    282\u001b[0m \u001b[38;5;28;01mif\u001b[39;00m a\u001b[38;5;241m.\u001b[39msize \u001b[38;5;241m==\u001b[39m \u001b[38;5;241m1\u001b[39m \u001b[38;5;129;01mand\u001b[39;00m a\u001b[38;5;241m.\u001b[39mndim \u001b[38;5;241m<\u001b[39m \u001b[38;5;241m2\u001b[39m:\n\u001b[0;32m--> 283\u001b[0m     \u001b[38;5;28;01mreturn\u001b[39;00m np\u001b[38;5;241m.\u001b[39marray([[\u001b[43mnp\u001b[49m\u001b[38;5;241;43m.\u001b[39;49m\u001b[43mexp\u001b[49m\u001b[43m(\u001b[49m\u001b[43ma\u001b[49m\u001b[38;5;241;43m.\u001b[39;49m\u001b[43mitem\u001b[49m\u001b[43m(\u001b[49m\u001b[43m)\u001b[49m\u001b[43m)\u001b[49m]])\n\u001b[1;32m    285\u001b[0m \u001b[38;5;28;01mif\u001b[39;00m a\u001b[38;5;241m.\u001b[39mndim \u001b[38;5;241m<\u001b[39m \u001b[38;5;241m2\u001b[39m:\n\u001b[1;32m    286\u001b[0m     \u001b[38;5;28;01mraise\u001b[39;00m LinAlgError(\u001b[38;5;124m'\u001b[39m\u001b[38;5;124mThe input array must be at least two-dimensional\u001b[39m\u001b[38;5;124m'\u001b[39m)\n",
      "\u001b[0;31mTypeError\u001b[0m: loop of ufunc does not support argument 0 of type csc_matrix which has no callable exp method"
     ]
    }
   ],
   "source": [
    "from tqix import *\n",
    "from tqix.pis import *\n",
    "import numpy as np\n",
    "import matplotlib.pyplot as plt\n",
    "from scipy.linalg import expm\n",
    "\n",
    "\n",
    "N = 10 #particles\n",
    "qc = circuit(N) #createcircuit\n",
    "\n",
    "def H0(h):\n",
    "    Jz = qc.Jz()\n",
    "    return h * Jz\n",
    "\n",
    "def H1(lamb): \n",
    "    Jx = qc.Jx()\n",
    "    Jy = qc.Jy()\n",
    "    Jz = qc.Jz()\n",
    "    return lamb / N * (Jx @ Jx - Jy @ Jy)\n",
    "\n",
    "def E0(rho,h):\n",
    "    H = H0(h)\n",
    "    expectJ = np.trace(rho @ H)\n",
    "    return expectJ\n",
    "\n",
    "def Et(rho,h,lamb,t):\n",
    "    H = H1(lamb)\n",
    "    print(H)\n",
    "    U = expm(-1j * H * t)\n",
    "    rho_t = U @ rho @ daggx(U)\n",
    "    return np.real(np.trace (rho_t @ H0(h)))\n",
    "\n",
    "#togetstateinformation\n",
    "rho = qc.state#sparsematrix\n",
    "rho = qc.state.toarray()#fullmatrix\n",
    "\n",
    "time = np.linspace(0.001, 10, 100)\n",
    "wt = []\n",
    "pt = []\n",
    "h = 0.05\n",
    "lamb = 1.5\n",
    "for t in time:\n",
    "    dE = Et(rho,h,lamb,t)-E0(rho,h)\n",
    "    wt.append(dE)\n",
    "    pt.append(dE/t)\n",
    "\n",
    "plt.plot(time, wt, label = \"Energy\")\n",
    "plt.plot(time, pt, label = \"Power\") \n",
    "plt.legend()\n",
    "plt.show()\n",
    "print (Et(rho,h,lamb,t))\n",
    "print (E0(rho,h))"
   ]
  }
 ],
 "metadata": {
  "kernelspec": {
   "display_name": "Python 3",
   "language": "python",
   "name": "python3"
  },
  "language_info": {
   "codemirror_mode": {
    "name": "ipython",
    "version": 3
   },
   "file_extension": ".py",
   "mimetype": "text/x-python",
   "name": "python",
   "nbconvert_exporter": "python",
   "pygments_lexer": "ipython3",
   "version": "3.10.9"
  }
 },
 "nbformat": 4,
 "nbformat_minor": 2
}
