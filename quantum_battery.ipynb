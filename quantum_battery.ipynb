{
 "cells": [
  {
   "cell_type": "markdown",
   "metadata": {},
   "source": [
    "Step 1. Run below cell to import all package."
   ]
  },
  {
   "cell_type": "code",
   "execution_count": 1,
   "metadata": {},
   "outputs": [],
   "source": [
    "from qsee.compilation.qcompilation import QuantumCompilation\n",
    "from qsee.compilation.qsp import QuantumStatePreparation\n",
    "from qsee.core import ansatz, state, gradient, optimizer\n",
    "from qsee.backend import constant, utilities\n",
    "import matplotlib.pyplot as plt\n",
    "import os\n",
    "import base.object\n",
    "import base.circuit\n",
    "import numpy as np, qiskit\n",
    "%load_ext autoreload\n",
    "%autoreload 2"
   ]
  },
  {
   "cell_type": "markdown",
   "metadata": {},
   "source": [
    "Step 2. Run below cell to make sure that your environment is ok or not"
   ]
  },
  {
   "cell_type": "code",
   "execution_count": 2,
   "metadata": {},
   "outputs": [],
   "source": [
    "qsp = QuantumStatePreparation.prepare([1, 0, 0, 0])"
   ]
  },
  {
   "cell_type": "markdown",
   "metadata": {},
   "source": [
    "Step 3. Coding!!!"
   ]
  },
  {
   "cell_type": "code",
   "execution_count": null,
   "metadata": {},
   "outputs": [],
   "source": [
    "def test(num_qubits, t1,thetas,shots):\n",
    "    \"\"\"\n",
    "        Return array time , W , P\n",
    "\n",
    "        INPUT:\n",
    "          t: time\n",
    "          thetas: array parameter (length 2*(N-1))\n",
    "          shots: number of measurement times\n",
    "\n",
    "    \"\"\"\n",
    "    time=np.linspace(0,t1,shots)\n",
    "    arrayW=[]\n",
    "    arrayP=[]\n",
    "\n",
    "    for t in time:\n",
    "        w = base.object.E(num_qubits, t,thetas) - base.object.E(num_qubits, 0,thetas)\n",
    "        if(t!=0):\n",
    "            p = w/t\n",
    "        else:\n",
    "            p = 0\n",
    "        arrayW.append(w)\n",
    "        arrayP.append(p)\n",
    "\n",
    "    return time,arrayW,arrayP\n",
    "max_values = []\n",
    "max_indices = []\n",
    "t = 10\n",
    "num_qubits = 2\n",
    "fig, axs = plt.subplots(10, 10, figsize=(50, 50))\n",
    "\n",
    "count=0\n",
    "for i in range(10):\n",
    "    for j in range(10):\n",
    "        count=count+1\n",
    "        thetas = np.random.rand(2*(num_qubits-1))* 2 * np.pi\n",
    "        ltime, arrayW, arrayP = test(num_qubits, t, thetas, 100)\n",
    "        index = i * 10 + j\n",
    "        max_value = np.max(arrayP)\n",
    "        max_index = np.argmax(arrayP)  \n",
    "        axs[i, j].plot(ltime, arrayP, label=f\"Power {count} \")\n",
    "        axs[i, j].scatter(ltime[max_index], max_value, color='red', label=f\"Max: {np.round(max_value, 2)}\")\n",
    "        axs[i, j].set_xlabel('Time')\n",
    "        axs[i, j].set_ylabel('Value')\n",
    "        axs[i, j].legend(prop={'size': 20})\n",
    "        \n",
    "        max_values.append(max_value)\n",
    "        max_indices.append(ltime[max_index])\n",
    "max_P = np.max(max_values)\n",
    "max_Pindex = np.argmax(max_values)\n",
    "plt.tight_layout()\n",
    "\n",
    "directory = 'imageresult'\n",
    "if not os.path.exists(directory):\n",
    "    os.makedirs(directory)\n",
    "plt.savefig(os.path.join(directory, f'2QUBIT_100IMAGE(1).pdf'), format='pdf')\n",
    "plt.show()\n",
    "print(f\"Đồ thị {max_Pindex+1}: P_MAX = {max_P}, t = {max_indices[max_Pindex]}\")"
   ]
  }
 ],
 "metadata": {
  "kernelspec": {
   "display_name": "Python 3",
   "language": "python",
   "name": "python3"
  },
  "language_info": {
   "codemirror_mode": {
    "name": "ipython",
    "version": 3
   },
   "file_extension": ".py",
   "mimetype": "text/x-python",
   "name": "python",
   "nbconvert_exporter": "python",
   "pygments_lexer": "ipython3",
   "version": "3.11.4"
  },
  "orig_nbformat": 4
 },
 "nbformat": 4,
 "nbformat_minor": 2
}
