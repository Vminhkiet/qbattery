{
 "cells": [
  {
   "cell_type": "markdown",
   "metadata": {},
   "source": [
    "### Quantum Battery project"
   ]
  },
  {
   "cell_type": "markdown",
   "metadata": {},
   "source": [
    "Step 1. Run below cell to import all package."
   ]
  },
  {
   "cell_type": "code",
   "execution_count": 1,
   "metadata": {},
   "outputs": [],
   "source": [
    "from qsee.compilation.qcompilation import QuantumCompilation\n",
    "from qsee.compilation.qsp import QuantumStatePreparation\n",
    "from qsee.core import ansatz, state, gradient, optimizer\n",
    "from qsee.backend import constant, utilities\n",
    "import matplotlib.pyplot as plt\n",
    "import base.object\n",
    "import base.circuit\n",
    "import numpy as np, qiskit\n",
    "%load_ext autoreload\n",
    "%autoreload 2"
   ]
  },
  {
   "cell_type": "markdown",
   "metadata": {},
   "source": [
    "Step 2. Run below cell to make sure that your environment is ok or not"
   ]
  },
  {
   "cell_type": "code",
   "execution_count": 2,
   "metadata": {},
   "outputs": [],
   "source": [
    "qsp = QuantumStatePreparation.prepare([1, 0, 0, 0])"
   ]
  },
  {
   "cell_type": "markdown",
   "metadata": {},
   "source": [
    "Step 3. Coding!!!"
   ]
  },
  {
   "cell_type": "code",
   "execution_count": 3,
   "metadata": {},
   "outputs": [
    {
     "name": "stderr",
     "output_type": "stream",
     "text": [
      "c:\\Users\\minhk\\Research\\qb1\\QuantumBattery\\QuantumBattery\\qsee\\compilation\\qcompilation.py:86: RuntimeWarning: divide by zero encountered in log2\n",
      "  num_qubits = int(np.log2(target_state.shape[0]))\n"
     ]
    },
    {
     "ename": "OverflowError",
     "evalue": "cannot convert float infinity to integer",
     "output_type": "error",
     "traceback": [
      "\u001b[1;31m---------------------------------------------------------------------------\u001b[0m",
      "\u001b[1;31mOverflowError\u001b[0m                             Traceback (most recent call last)",
      "Cell \u001b[1;32mIn[3], line 33\u001b[0m\n\u001b[0;32m     31\u001b[0m costs \u001b[38;5;241m=\u001b[39m []\n\u001b[0;32m     32\u001b[0m u \u001b[38;5;241m=\u001b[39m U(num_qubits)\n\u001b[1;32m---> 33\u001b[0m u_charge \u001b[38;5;241m=\u001b[39m \u001b[43mU_charge\u001b[49m\u001b[43m(\u001b[49m\u001b[43mnum_qubits\u001b[49m\u001b[43m,\u001b[49m\u001b[43m \u001b[49m\u001b[43mthetas\u001b[49m\u001b[43m)\u001b[49m\n\u001b[0;32m     34\u001b[0m uu_charge \u001b[38;5;241m=\u001b[39m u\u001b[38;5;241m.\u001b[39mcompose(u_charge)\n\u001b[0;32m     35\u001b[0m \u001b[38;5;66;03m# See the whole circuit\u001b[39;00m\n",
      "Cell \u001b[1;32mIn[3], line 8\u001b[0m, in \u001b[0;36mU_charge\u001b[1;34m(num_qubits, thetas)\u001b[0m\n\u001b[0;32m      6\u001b[0m \u001b[38;5;66;03m### Code the U_charge here\u001b[39;00m\n\u001b[0;32m      7\u001b[0m unitary \u001b[38;5;241m=\u001b[39m np\u001b[38;5;241m.\u001b[39mexp(\u001b[38;5;241m-\u001b[39m\u001b[38;5;241m1\u001b[39mj \u001b[38;5;241m*\u001b[39m H_charge(num_qubits, thetas))\n\u001b[1;32m----> 8\u001b[0m qc_unitary \u001b[38;5;241m=\u001b[39m \u001b[43mQuantumStatePreparation\u001b[49m\u001b[38;5;241;43m.\u001b[39;49m\u001b[43mprepare\u001b[49m\u001b[43m(\u001b[49m\u001b[43munitary\u001b[49m\u001b[43m)\u001b[49m\n\u001b[0;32m      9\u001b[0m \u001b[38;5;28;01mreturn\u001b[39;00m qc_unitary\n",
      "File \u001b[1;32mc:\\Users\\minhk\\Research\\qb1\\QuantumBattery\\QuantumBattery\\qsee\\compilation\\qsp.py:149\u001b[0m, in \u001b[0;36mQuantumStatePreparation.prepare\u001b[1;34m(state, **kwargs)\u001b[0m\n\u001b[0;32m    147\u001b[0m \u001b[38;5;28;01melse\u001b[39;00m:\n\u001b[0;32m    148\u001b[0m     \u001b[38;5;28;01mraise\u001b[39;00m \u001b[38;5;167;01mTypeError\u001b[39;00m(\u001b[38;5;124m\"\u001b[39m\u001b[38;5;124mPlease input target state name or an array or dict\u001b[39m\u001b[38;5;124m\"\u001b[39m)\n\u001b[1;32m--> 149\u001b[0m compiler \u001b[38;5;241m=\u001b[39m \u001b[43mQuantumStatePreparation\u001b[49m\u001b[38;5;241;43m.\u001b[39;49m\u001b[43mprepare_random\u001b[49m\u001b[43m(\u001b[49m\u001b[43mstate\u001b[49m\u001b[43m,\u001b[49m\u001b[43m \u001b[49m\u001b[38;5;241;43m*\u001b[39;49m\u001b[38;5;241;43m*\u001b[39;49m\u001b[43mkwargs\u001b[49m\u001b[43m)\u001b[49m\n\u001b[0;32m    150\u001b[0m \u001b[38;5;28;01mreturn\u001b[39;00m compiler\n",
      "File \u001b[1;32mc:\\Users\\minhk\\Research\\qb1\\QuantumBattery\\QuantumBattery\\qsee\\compilation\\qsp.py:161\u001b[0m, in \u001b[0;36mQuantumStatePreparation.prepare_random\u001b[1;34m(state, **kwargs)\u001b[0m\n\u001b[0;32m    151\u001b[0m \u001b[38;5;129m@staticmethod\u001b[39m\n\u001b[0;32m    152\u001b[0m \u001b[38;5;28;01mdef\u001b[39;00m \u001b[38;5;21mprepare_random\u001b[39m(state: np\u001b[38;5;241m.\u001b[39mndarray, \u001b[38;5;241m*\u001b[39m\u001b[38;5;241m*\u001b[39mkwargs) \u001b[38;5;241m-\u001b[39m\u001b[38;5;241m>\u001b[39m QuantumCompilation:\n\u001b[0;32m    153\u001b[0m \u001b[38;5;250m    \u001b[39m\u001b[38;5;124;03m\"\"\"Preparing arbitrary state where stae can be quantum state or unitary matrix\u001b[39;00m\n\u001b[0;32m    154\u001b[0m \n\u001b[0;32m    155\u001b[0m \u001b[38;5;124;03m    Args:\u001b[39;00m\n\u001b[1;32m   (...)\u001b[0m\n\u001b[0;32m    159\u001b[0m \u001b[38;5;124;03m        - QuantumCompilation: fitted compiler\u001b[39;00m\n\u001b[0;32m    160\u001b[0m \u001b[38;5;124;03m    \"\"\"\u001b[39;00m\n\u001b[1;32m--> 161\u001b[0m     compiler \u001b[38;5;241m=\u001b[39m \u001b[43mQuantumCompilation\u001b[49m\u001b[38;5;241;43m.\u001b[39;49m\u001b[43mprepare\u001b[49m\u001b[43m(\u001b[49m\u001b[43mstate\u001b[49m\u001b[43m)\u001b[49m\n\u001b[0;32m    162\u001b[0m     compiler\u001b[38;5;241m.\u001b[39mfit()\n\u001b[0;32m    163\u001b[0m     \u001b[38;5;28;01mif\u001b[39;00m \u001b[38;5;124m'\u001b[39m\u001b[38;5;124merror_rate\u001b[39m\u001b[38;5;124m'\u001b[39m \u001b[38;5;129;01min\u001b[39;00m kwargs:\n",
      "File \u001b[1;32mc:\\Users\\minhk\\Research\\qb1\\QuantumBattery\\QuantumBattery\\qsee\\compilation\\qcompilation.py:86\u001b[0m, in \u001b[0;36mQuantumCompilation.prepare\u001b[1;34m(target_state)\u001b[0m\n\u001b[0;32m     76\u001b[0m \u001b[38;5;129m@staticmethod\u001b[39m\n\u001b[0;32m     77\u001b[0m \u001b[38;5;28;01mdef\u001b[39;00m \u001b[38;5;21mprepare\u001b[39m(target_state: np\u001b[38;5;241m.\u001b[39mndarray):\n\u001b[0;32m     78\u001b[0m \u001b[38;5;250m    \u001b[39m\u001b[38;5;124;03m\"\"\"Construct a default compiler, default u is g2gnw\u001b[39;00m\n\u001b[0;32m     79\u001b[0m \n\u001b[0;32m     80\u001b[0m \u001b[38;5;124;03m    Args:\u001b[39;00m\n\u001b[1;32m   (...)\u001b[0m\n\u001b[0;32m     84\u001b[0m \u001b[38;5;124;03m        - QuantumCompilation: constructed compiler\u001b[39;00m\n\u001b[0;32m     85\u001b[0m \u001b[38;5;124;03m    \"\"\"\u001b[39;00m\n\u001b[1;32m---> 86\u001b[0m     num_qubits \u001b[38;5;241m=\u001b[39m \u001b[38;5;28;43mint\u001b[39;49m\u001b[43m(\u001b[49m\u001b[43mnp\u001b[49m\u001b[38;5;241;43m.\u001b[39;49m\u001b[43mlog2\u001b[49m\u001b[43m(\u001b[49m\u001b[43mtarget_state\u001b[49m\u001b[38;5;241;43m.\u001b[39;49m\u001b[43mshape\u001b[49m\u001b[43m[\u001b[49m\u001b[38;5;241;43m0\u001b[39;49m\u001b[43m]\u001b[49m\u001b[43m)\u001b[49m\u001b[43m)\u001b[49m\n\u001b[0;32m     87\u001b[0m     vdagger \u001b[38;5;241m=\u001b[39m QuantumCompilation\u001b[38;5;241m.\u001b[39mprocess_vdagger(target_state)\n\u001b[0;32m     88\u001b[0m     compiler \u001b[38;5;241m=\u001b[39m QuantumCompilation(ansatz\u001b[38;5;241m.\u001b[39mzxz_WchainCNOT(num_qubits, \u001b[38;5;241m1\u001b[39m), vdagger)\n",
      "\u001b[1;31mOverflowError\u001b[0m: cannot convert float infinity to integer"
     ]
    }
   ],
   "source": [
    "\n",
    "def test(num_qubits, t1,thetas,shots):\n",
    "    \"\"\"\n",
    "        Return array time , W , P\n",
    "\n",
    "        INPUT:\n",
    "          t: time\n",
    "          thetas: array parameter (length 2*(N-1))\n",
    "          shots: number of measurement times\n",
    "\n",
    "    \"\"\"\n",
    "    time=np.linspace(0,t1,shots)\n",
    "    arrayW=[]\n",
    "    arrayP=[]\n",
    "\n",
    "    for i in time:\n",
    "        w = base.object.W(num_qubits, i,thetas)\n",
    "        p = base.object.P(num_qubits, i,thetas)\n",
    "        arrayW.append(w)\n",
    "        arrayP.append(p)\n",
    "\n",
    "    return time,arrayW,arrayP\n",
    "\n",
    "t = 10\n",
    "num_qubits = 2\n",
    "thetas = np.zeros(2*(num_qubits-1))\n",
    "circuit,ttas=base.circuit.aqc(num_qubits,t,thetas)\n",
    "print(\"Thetas:\",ttas)\n",
    "# Calculate W(t) and P(t) by measurement (measure many times) or theory (caculate vector @ matrix @ vector).\n",
    "ltime, arrayW, arrayP = test(num_qubits, t, ttas, 100)\n",
    "\n",
    "plt.plot(ltime, arrayW, label=\"Work\")\n",
    "plt.plot(ltime, arrayP, label=\"Power\")\n",
    "plt.xlabel('Time')\n",
    "plt.ylabel('Value')\n",
    "plt.legend()\n",
    "plt.show()"
   ]
  }
 ],
 "metadata": {
  "kernelspec": {
   "display_name": "Python 3",
   "language": "python",
   "name": "python3"
  },
  "language_info": {
   "codemirror_mode": {
    "name": "ipython",
    "version": 3
   },
   "file_extension": ".py",
   "mimetype": "text/x-python",
   "name": "python",
   "nbconvert_exporter": "python",
   "pygments_lexer": "ipython3",
   "version": "3.11.4"
  },
  "orig_nbformat": 4
 },
 "nbformat": 4,
 "nbformat_minor": 2
}
