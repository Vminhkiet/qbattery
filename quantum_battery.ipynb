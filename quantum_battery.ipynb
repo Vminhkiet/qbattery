{
 "cells": [
  {
   "cell_type": "markdown",
   "metadata": {},
   "source": [
    "### Quantum Battery project"
   ]
  },
  {
   "cell_type": "markdown",
   "metadata": {},
   "source": [
    "Step 1. Run below cell to import all package."
   ]
  },
  {
   "cell_type": "code",
   "execution_count": 1,
   "metadata": {},
   "outputs": [],
   "source": [
    "from qsee.compilation.qcompilation import QuantumCompilation\n",
    "from qsee.compilation.qsp import QuantumStatePreparation\n",
    "from qsee.core import ansatz, state, gradient, optimizer\n",
    "from qsee.backend import constant, utilities\n",
    "import matplotlib.pyplot as plt\n",
    "import base.constant as ct\n",
    "import base.calculation as ca\n",
    "import base.hamiltonian as hm\n",
    "import base.circuit as cr\n",
    "import matplotlib.pyplot as plt\n",
    "import numpy as np, qiskit\n",
    "from qiskit import QuantumCircuit\n",
    "%load_ext autoreload\n",
    "%autoreload 2"
   ]
  },
  {
   "cell_type": "markdown",
   "metadata": {},
   "source": [
    "Step 2. Run below cell to make sure that your environment is ok or not"
   ]
  },
  {
   "cell_type": "code",
   "execution_count": null,
   "metadata": {},
   "outputs": [],
   "source": [
    "qsp = QuantumStatePreparation.prepare([1, 0, 0, 0])"
   ]
  },
  {
   "cell_type": "markdown",
   "metadata": {},
   "source": [
    "Step 3. Coding!!!"
   ]
  },
  {
   "cell_type": "code",
   "execution_count": null,
   "metadata": {},
   "outputs": [],
   "source": [
    "t = 10\n",
    "thetas = np.zeros(2*(ct.N-1))\n",
    "# Calculate W(t) and P(t) by measurement (measure many times) or theory (caculate vector @ matrix @ vector).\n",
    "ltime,arrayW,arrayP = ca.manytime(t,thetas,10)\n",
    "plt.plot(ltime,arrayW,arrayP)\n",
    "\n"
   ]
  }
 ],
 "metadata": {
  "kernelspec": {
   "display_name": "Python 3",
   "language": "python",
   "name": "python3"
  },
  "language_info": {
   "codemirror_mode": {
    "name": "ipython",
    "version": 3
   },
   "file_extension": ".py",
   "mimetype": "text/x-python",
   "name": "python",
   "nbconvert_exporter": "python",
   "pygments_lexer": "ipython3",
   "version": "3.11.4"
  },
  "orig_nbformat": 4
 },
 "nbformat": 4,
 "nbformat_minor": 2
}
