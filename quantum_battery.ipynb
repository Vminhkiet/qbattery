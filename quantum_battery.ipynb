{
 "cells": [
  {
   "cell_type": "markdown",
   "metadata": {},
   "source": [
    "### Quantum Battery project"
   ]
  },
  {
   "cell_type": "markdown",
   "metadata": {},
   "source": [
    "Step 1. Run below cell to import all package."
   ]
  },
  {
   "cell_type": "code",
   "execution_count": 1,
   "metadata": {},
   "outputs": [],
   "source": [
    "from qsee.compilation.qcompilation import QuantumCompilation\n",
    "from qsee.compilation.qsp import QuantumStatePreparation\n",
    "from qsee.core import ansatz, state, gradient, optimizer\n",
    "from qsee.backend import constant, utilities\n",
    "from mpl_toolkits import mplot3d\n",
    "import matplotlib.pyplot as plt\n",
    "import os\n",
    "import base.Gradient\n",
    "import base.circuit\n",
    "import base.object\n",
    "import numpy as np, qiskit\n",
    "%load_ext autoreload\n",
    "%autoreload 2"
   ]
  },
  {
   "cell_type": "markdown",
   "metadata": {},
   "source": [
    "Step 2. Run below cell to make sure that your environment is ok or not"
   ]
  },
  {
   "cell_type": "code",
   "execution_count": 2,
   "metadata": {},
   "outputs": [],
   "source": [
    "qsp = QuantumStatePreparation.prepare([1, 0, 0, 0])"
   ]
  },
  {
   "cell_type": "markdown",
   "metadata": {},
   "source": [
    "Step 3. Coding!!!"
   ]
  },
  {
   "cell_type": "code",
   "execution_count": null,
   "metadata": {},
   "outputs": [],
   "source": [
    "t = 10\n",
    "num_qubits = 2\n",
    "thetas = np.random.rand(2*(num_qubits-1))*2*np.pi\n",
    "thetasmax,thetass=base.Gradient.gradient_descent(num_qubits,t,thetas)\n"
   ]
  },
  {
   "cell_type": "code",
   "execution_count": null,
   "metadata": {},
   "outputs": [],
   "source": [
    "def test(num_qubits, t1,thetas,shots):\n",
    "    \"\"\"\n",
    "\n",
    "        INPUT:\n",
    "          t: time\n",
    "          thetas: array parameter (length 2*(N-1))\n",
    "          shots: number of measurement times\n",
    "\n",
    "    \"\"\"\n",
    "    time=np.linspace(0,t1,shots)\n",
    "    arrayW=[]\n",
    "    arrayP=[]\n",
    "    for t in time:\n",
    "        w = base.object.E(num_qubits, t,thetas) - base.object.E(num_qubits, 0,thetas)\n",
    "        if(t!=0):\n",
    "            p = w/t\n",
    "        else:\n",
    "            p = 0\n",
    "        arrayW.append(w)\n",
    "        arrayP.append(p)\n",
    "    return time,arrayP,arrayW\n",
    "ltime,lP,lW=test(num_qubits,t,thetasmax)\n",
    "plt.plot(ltime, lW, label=\"Work\")\n",
    "plt.plot(ltime, lP, label=\"Power\")\n",
    "plt.xlabel('Time')\n",
    "plt.ylabel('Value')\n",
    "plt.legend()\n",
    "plt.show()"
   ]
  }
 ],
 "metadata": {
  "kernelspec": {
   "display_name": "Python 3",
   "language": "python",
   "name": "python3"
  },
  "language_info": {
   "codemirror_mode": {
    "name": "ipython",
    "version": 3
   },
   "file_extension": ".py",
   "mimetype": "text/x-python",
   "name": "python",
   "nbconvert_exporter": "python",
   "pygments_lexer": "ipython3",
   "version": "3.10.9"
  },
  "orig_nbformat": 4
 },
 "nbformat": 4,
 "nbformat_minor": 2
}
