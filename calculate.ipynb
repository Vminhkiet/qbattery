{
 "cells": [
  {
   "cell_type": "code",
   "execution_count": 1,
   "metadata": {},
   "outputs": [],
   "source": [
    "from qsee.compilation.qsp import QuantumStatePreparation\n",
    "from qsee.core import ansatz, state, gradient, optimizer\n",
    "from qsee.backend import constant, utilities\n",
    "from mpl_toolkits import mplot3d\n",
    "import matplotlib.pyplot as plt\n",
    "import os\n",
    "import base.Gradient\n",
    "import base.object\n",
    "import base.hamiltonian\n",
    "import numpy as np, qiskit\n",
    "import tqix as tq\n",
    "\n",
    "from matplotlib.ticker import FuncFormatter\n",
    "%load_ext autoreload\n",
    "%autoreload 2"
   ]
  },
  {
   "cell_type": "code",
   "execution_count": 2,
   "metadata": {},
   "outputs": [
    {
     "name": "stdout",
     "output_type": "stream",
     "text": [
      "0 1\n",
      "0 4\n",
      "0 5\n",
      "1 2\n",
      "1 0\n",
      "1 5\n",
      "1 6\n",
      "1 4\n",
      "2 3\n",
      "2 1\n",
      "2 6\n",
      "2 7\n",
      "2 5\n",
      "3 2\n",
      "3 7\n",
      "3 6\n",
      "4 5\n",
      "4 8\n",
      "4 0\n",
      "4 9\n",
      "4 1\n",
      "5 6\n",
      "5 4\n",
      "5 9\n",
      "5 1\n",
      "5 0\n",
      "5 10\n",
      "5 8\n",
      "5 2\n",
      "6 7\n",
      "6 5\n",
      "6 10\n",
      "6 2\n",
      "6 1\n",
      "6 11\n",
      "6 9\n",
      "6 3\n",
      "7 6\n",
      "7 11\n",
      "7 3\n",
      "7 2\n",
      "7 10\n",
      "8 9\n",
      "8 4\n",
      "8 5\n",
      "9 10\n",
      "9 8\n",
      "9 5\n",
      "9 4\n",
      "9 6\n",
      "10 11\n",
      "10 9\n",
      "10 6\n",
      "10 5\n",
      "10 7\n",
      "11 10\n",
      "11 7\n",
      "11 6\n"
     ]
    }
   ],
   "source": [
    "n_row=3\n",
    "n_column=4\n",
    "num_qubits=n_row*n_column\n",
    "thetasj=np.random.rand(num_qubits) * 4 * np.pi\n",
    "thetasg=np.random.rand(num_qubits) * 4 * np.pi\n",
    "h1=base.hamiltonian.h1_2D(n_row,n_column,thetasj,thetasg,h=0)\n"
   ]
  },
  {
   "cell_type": "code",
   "execution_count": 3,
   "metadata": {},
   "outputs": [
    {
     "name": "stdout",
     "output_type": "stream",
     "text": [
      "(4096, 4096)\n"
     ]
    }
   ],
   "source": [
    "print(h1.shape)"
   ]
  },
  {
   "cell_type": "code",
   "execution_count": 4,
   "metadata": {},
   "outputs": [
    {
     "name": "stdout",
     "output_type": "stream",
     "text": [
      "(4096, 1)\n"
     ]
    }
   ],
   "source": [
    "print(base.object.psi_0(num_qubits).shape)"
   ]
  },
  {
   "cell_type": "code",
   "execution_count": 5,
   "metadata": {},
   "outputs": [
    {
     "name": "stdout",
     "output_type": "stream",
     "text": [
      "-11.999999999999998\n",
      "0.0\n"
     ]
    }
   ],
   "source": [
    "def test(num_qubits, t1,h1,shots):\n",
    "    \"\"\"\n",
    "        Return array time , W , P\n",
    "\n",
    "        INPUT:\n",
    "          t: time\n",
    "          thetas: array parameter (length 2*(N-1))\n",
    "          shots: number of measurement times\n",
    "\n",
    "    \"\"\"\n",
    "\n",
    "    time=np.linspace(0,t1,shots)\n",
    "    arrayW=[]\n",
    "    arrayP=[]\n",
    "    h0=base.hamiltonian.h0(num_qubits,h=1)\n",
    "    ps0=base.object.psi_0(num_qubits)\n",
    "    E0=np.real( (tq.daggx(ps0)) @h0@ ps0)[0, 0]\n",
    "    print(E0)\n",
    "    for t in time:\n",
    "        w = 0\n",
    "        p = 0\n",
    "        if(t!=0):\n",
    "            w = base.object.E(t,h1,h0,ps0) - E0\n",
    "            p = w/t\n",
    "        \n",
    "        print(w)\n",
    "        arrayW.append(w)\n",
    "        arrayP.append(p)\n",
    "\n",
    "    return time,arrayP,arrayW\n",
    "t = 1\n",
    "ltime,arP,arW=test(num_qubits,t,h1,shots=1024)\n",
    "\n",
    "max_value=np.max(arP)\n",
    "max_index = np.argmax(arP)\n",
    "max_time = ltime[max_index]\n",
    "plt.plot(ltime, arW, label=\"Work\")\n",
    "plt.plot(ltime, arP, label=\"Power\")\n",
    "plt.xlabel('Time')\n",
    "plt.ylabel('Value')\n",
    "plt.scatter(max_time, max_value, color='red', label=f\"Max: {np.round(max_value, 2)}\")\n",
    "plt.legend()\n",
    "plt.show()\n"
   ]
  }
 ],
 "metadata": {
  "kernelspec": {
   "display_name": "base",
   "language": "python",
   "name": "python3"
  },
  "language_info": {
   "codemirror_mode": {
    "name": "ipython",
    "version": 3
   },
   "file_extension": ".py",
   "mimetype": "text/x-python",
   "name": "python",
   "nbconvert_exporter": "python",
   "pygments_lexer": "ipython3",
   "version": "3.11.4"
  }
 },
 "nbformat": 4,
 "nbformat_minor": 2
}
