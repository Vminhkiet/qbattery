{
 "cells": [
  {
   "cell_type": "code",
   "execution_count": 1,
   "metadata": {},
   "outputs": [],
   "source": [
    "import matplotlib.pyplot as plt\n",
    "import base.Gradient\n",
    "import base.object\n",
    "import base.hamiltonian\n",
    "import base.Gradient\n",
    "import numpy as np\n",
    "import tqix as tq\n",
    "%load_ext autoreload\n",
    "%autoreload 2"
   ]
  },
  {
   "cell_type": "code",
   "execution_count": 2,
   "metadata": {},
   "outputs": [
    {
     "name": "stdout",
     "output_type": "stream",
     "text": [
      "[[0.        +0.j 0.        +0.j 0.        +0.j ... 0.        +0.j\n",
      "  0.        +0.j 0.        +0.j]\n",
      " [0.        +0.j 0.        +0.j 0.83973659+0.j ... 0.        +0.j\n",
      "  0.        +0.j 0.        +0.j]\n",
      " [0.        +0.j 0.83973659+0.j 0.        +0.j ... 0.        +0.j\n",
      "  0.        +0.j 0.        +0.j]\n",
      " ...\n",
      " [0.        +0.j 0.        +0.j 0.        +0.j ... 0.        +0.j\n",
      "  0.83973659+0.j 0.        +0.j]\n",
      " [0.        +0.j 0.        +0.j 0.        +0.j ... 0.83973659+0.j\n",
      "  0.        +0.j 0.        +0.j]\n",
      " [0.        +0.j 0.        +0.j 0.        +0.j ... 0.        +0.j\n",
      "  0.        +0.j 0.        +0.j]]\n"
     ]
    },
    {
     "ename": "",
     "evalue": "",
     "output_type": "error",
     "traceback": [
      "\u001b[1;31mThe Kernel crashed while executing code in the current cell or a previous cell. \n",
      "\u001b[1;31mPlease review the code in the cell(s) to identify a possible cause of the failure. \n",
      "\u001b[1;31mClick <a href='https://aka.ms/vscodeJupyterKernelCrash'>here</a> for more info. \n",
      "\u001b[1;31mView Jupyter <a href='command:jupyter.viewOutput'>log</a> for further details."
     ]
    }
   ],
   "source": [
    "point_graph = 3\n",
    "z = 2\n",
    "n_col,n_row = base.hamiltonian.covert_3D_to_2D(point_graph,z)\n",
    "num_qubits = n_row * n_col\n",
    "thetas = np.random.rand(2 * num_qubits)\n",
    "thetas = thetas.astype(np.complex128)\n",
    "h1 = base.hamiltonian.h1_2D(n_row, n_col, thetas)\n",
    "print(h1)\n",
    "t = 6\n",
    "delta_t = 0.01\n"
   ]
  },
  {
   "cell_type": "code",
   "execution_count": 3,
   "metadata": {},
   "outputs": [],
   "source": [
    "import numpy as np\n",
    "from scipy.linalg import expm\n",
    "\n",
    "# Giá trị của t\n",
    "t = 1.0\n",
    "\n",
    "# Tính toán ma trận mũ\n",
    "matrix_exponential_simple = expm(-1j * t * h1)\n",
    "\n",
    "print(\"Ma trận mũ của ma trận h1 là:\")\n",
    "print(matrix_exponential_simple.shape)\n"
   ]
  },
  {
   "cell_type": "code",
   "execution_count": null,
   "metadata": {},
   "outputs": [
    {
     "name": "stdout",
     "output_type": "stream",
     "text": [
      "aasd\n"
     ]
    }
   ],
   "source": [
    "import base.circuit\n",
    "\n",
    "\n",
    "qc,thetas1=base.circuit.aqc(num_qubits,t,h1)"
   ]
  },
  {
   "cell_type": "code",
   "execution_count": null,
   "metadata": {},
   "outputs": [
    {
     "name": "stdout",
     "output_type": "stream",
     "text": [
      "[ 1.          1.          1.          1.          1.          1.\n",
      "  1.52573308  1.21066507  1.40492425  2.40847012  1.89609977  1.82822649\n",
      "  0.79849497 -0.35863772 -0.14523107  2.59468889  0.11563847 -0.47429002]\n"
     ]
    }
   ],
   "source": [
    "print(thetas1)"
   ]
  },
  {
   "cell_type": "code",
   "execution_count": null,
   "metadata": {},
   "outputs": [
    {
     "name": "stdout",
     "output_type": "stream",
     "text": [
      "aasd\n",
      "aasd\n",
      "aasd\n",
      "aasd\n",
      "aasd\n",
      "aasd\n",
      "aasd\n",
      "aasd\n",
      "aasd\n",
      "aasd\n",
      "aasd\n",
      "aasd\n",
      "aasd\n",
      "aasd\n",
      "aasd\n",
      "aasd\n",
      "aasd\n",
      "aasd\n",
      "aasd\n",
      "aasd\n",
      "aasd\n",
      "aasd\n",
      "aasd\n",
      "aasd\n",
      "aasd\n",
      "aasd\n",
      "aasd\n",
      "aasd\n",
      "aasd\n",
      "aasd\n",
      "aasd\n",
      "aasd\n",
      "aasd\n",
      "aasd\n",
      "aasd\n",
      "aasd\n",
      "aasd\n",
      "aasd\n",
      "aasd\n",
      "aasd\n",
      "aasd\n",
      "aasd\n",
      "aasd\n",
      "aasd\n",
      "aasd\n",
      "aasd\n",
      "aasd\n",
      "aasd\n",
      "aasd\n",
      "aasd\n",
      "aasd\n",
      "aasd\n",
      "aasd\n",
      "aasd\n",
      "aasd\n",
      "aasd\n",
      "aasd\n",
      "aasd\n",
      "aasd\n",
      "aasd\n",
      "aasd\n",
      "aasd\n",
      "aasd\n",
      "aasd\n",
      "aasd\n",
      "aasd\n",
      "aasd\n",
      "aasd\n",
      "aasd\n",
      "aasd\n",
      "aasd\n",
      "aasd\n",
      "aasd\n",
      "aasd\n",
      "aasd\n",
      "aasd\n",
      "aasd\n",
      "aasd\n",
      "aasd\n",
      "aasd\n",
      "aasd\n",
      "aasd\n",
      "aasd\n",
      "aasd\n",
      "aasd\n",
      "aasd\n",
      "aasd\n",
      "aasd\n",
      "aasd\n",
      "aasd\n",
      "aasd\n",
      "aasd\n",
      "aasd\n",
      "aasd\n",
      "aasd\n",
      "aasd\n",
      "aasd\n",
      "aasd\n",
      "aasd\n",
      "aasd\n",
      "aasd\n",
      "aasd\n",
      "aasd\n"
     ]
    }
   ],
   "source": [
    "\n",
    "\n",
    "thetas1,thetass=base.Gradient.parameter_optimization(n_row,n_col,t,thetas)\n",
    "print(thetas1)"
   ]
  }
 ],
 "metadata": {
  "kernelspec": {
   "display_name": "base",
   "language": "python",
   "name": "python3"
  },
  "language_info": {
   "codemirror_mode": {
    "name": "ipython",
    "version": 3
   },
   "file_extension": ".py",
   "mimetype": "text/x-python",
   "name": "python",
   "nbconvert_exporter": "python",
   "pygments_lexer": "ipython3",
   "version": "3.11.4"
  }
 },
 "nbformat": 4,
 "nbformat_minor": 2
}
